{
 "cells": [
  {
   "cell_type": "markdown",
   "metadata": {},
   "source": [
    "# TxMM Assignment 4 - Authorship Attribution\n",
    "\n",
    "This "
   ]
  },
  {
   "cell_type": "markdown",
   "metadata": {},
   "source": [
    "## 1. Load data"
   ]
  },
  {
   "cell_type": "code",
   "execution_count": 71,
   "metadata": {},
   "outputs": [
    {
     "data": {
      "text/html": [
       "<div>\n",
       "<style scoped>\n",
       "    .dataframe tbody tr th:only-of-type {\n",
       "        vertical-align: middle;\n",
       "    }\n",
       "\n",
       "    .dataframe tbody tr th {\n",
       "        vertical-align: top;\n",
       "    }\n",
       "\n",
       "    .dataframe thead th {\n",
       "        text-align: right;\n",
       "    }\n",
       "</style>\n",
       "<table border=\"1\" class=\"dataframe\">\n",
       "  <thead>\n",
       "    <tr style=\"text-align: right;\">\n",
       "      <th></th>\n",
       "      <th>text</th>\n",
       "      <th>author</th>\n",
       "    </tr>\n",
       "  </thead>\n",
       "  <tbody>\n",
       "    <tr>\n",
       "      <th>7</th>\n",
       "      <td>With that, Lars gave them the middle finger as...</td>\n",
       "      <td>1276465</td>\n",
       "    </tr>\n",
       "    <tr>\n",
       "      <th>14</th>\n",
       "      <td>Lire had confidence in his sunny personality, ...</td>\n",
       "      <td>583064</td>\n",
       "    </tr>\n",
       "    <tr>\n",
       "      <th>26</th>\n",
       "      <td>\"Still, you never talk about her, say anything...</td>\n",
       "      <td>3439302</td>\n",
       "    </tr>\n",
       "    <tr>\n",
       "      <th>33</th>\n",
       "      <td>\"Hey...\" he choked out. She wiggled her finger...</td>\n",
       "      <td>3439302</td>\n",
       "    </tr>\n",
       "    <tr>\n",
       "      <th>44</th>\n",
       "      <td>Hisoka snickered, \"I could never be mad at you...</td>\n",
       "      <td>583994</td>\n",
       "    </tr>\n",
       "    <tr>\n",
       "      <th>...</th>\n",
       "      <td>...</td>\n",
       "      <td>...</td>\n",
       "    </tr>\n",
       "    <tr>\n",
       "      <th>3731</th>\n",
       "      <td>That \"intruder\" wasn\"t a bad person! He was ju...</td>\n",
       "      <td>2750536</td>\n",
       "    </tr>\n",
       "    <tr>\n",
       "      <th>3782</th>\n",
       "      <td>Abruptly, Aurora ended the attack and the sobb...</td>\n",
       "      <td>870118</td>\n",
       "    </tr>\n",
       "    <tr>\n",
       "      <th>3787</th>\n",
       "      <td>It was a plain brown brick building, but the o...</td>\n",
       "      <td>870118</td>\n",
       "    </tr>\n",
       "    <tr>\n",
       "      <th>3821</th>\n",
       "      <td>Mari\"s probably the one from the highest tier ...</td>\n",
       "      <td>583064</td>\n",
       "    </tr>\n",
       "    <tr>\n",
       "      <th>3824</th>\n",
       "      <td>Dio chuckled and relaxed. Jin sighed in relief...</td>\n",
       "      <td>583064</td>\n",
       "    </tr>\n",
       "  </tbody>\n",
       "</table>\n",
       "<p>239 rows × 2 columns</p>\n",
       "</div>"
      ],
      "text/plain": [
       "                                                   text   author\n",
       "7     With that, Lars gave them the middle finger as...  1276465\n",
       "14    Lire had confidence in his sunny personality, ...   583064\n",
       "26    \"Still, you never talk about her, say anything...  3439302\n",
       "33    \"Hey...\" he choked out. She wiggled her finger...  3439302\n",
       "44    Hisoka snickered, \"I could never be mad at you...   583994\n",
       "...                                                 ...      ...\n",
       "3731  That \"intruder\" wasn\"t a bad person! He was ju...  2750536\n",
       "3782  Abruptly, Aurora ended the attack and the sobb...   870118\n",
       "3787  It was a plain brown brick building, but the o...   870118\n",
       "3821  Mari\"s probably the one from the highest tier ...   583064\n",
       "3824  Dio chuckled and relaxed. Jin sighed in relief...   583064\n",
       "\n",
       "[239 rows x 2 columns]"
      ]
     },
     "execution_count": 71,
     "metadata": {},
     "output_type": "execute_result"
    }
   ],
   "source": [
    "import os\n",
    "import pandas as pd\n",
    "\n",
    "project_root_dir = os.path.dirname(os.getcwd())\n",
    "data_dir = os.path.join(project_root_dir, \"Data\")\n",
    "\n",
    "def load_fanfiction_data(data_purpose: str) -> pd.DataFrame:\n",
    "    path_to_data_csv = os.path.join(data_dir, f\"pan2324_{data_purpose}_data.csv\")\n",
    "    \n",
    "    return pd.read_csv(path_to_data_csv, index_col=0).sort_index()\n",
    "\n",
    "train_data = load_fanfiction_data(\"train\")\n",
    "test_data = load_fanfiction_data(\"test\")\n",
    "dev_data = load_fanfiction_data(\"dev\")\n"
   ]
  },
  {
   "cell_type": "markdown",
   "metadata": {},
   "source": [
    "## 2. Feature extraction"
   ]
  },
  {
   "cell_type": "code",
   "execution_count": null,
   "metadata": {},
   "outputs": [],
   "source": []
  },
  {
   "cell_type": "markdown",
   "metadata": {},
   "source": [
    "# ***The***"
   ]
  }
 ],
 "metadata": {
  "kernelspec": {
   "display_name": "env",
   "language": "python",
   "name": "python3"
  },
  "language_info": {
   "codemirror_mode": {
    "name": "ipython",
    "version": 3
   },
   "file_extension": ".py",
   "mimetype": "text/x-python",
   "name": "python",
   "nbconvert_exporter": "python",
   "pygments_lexer": "ipython3",
   "version": "3.11.3"
  }
 },
 "nbformat": 4,
 "nbformat_minor": 2
}
