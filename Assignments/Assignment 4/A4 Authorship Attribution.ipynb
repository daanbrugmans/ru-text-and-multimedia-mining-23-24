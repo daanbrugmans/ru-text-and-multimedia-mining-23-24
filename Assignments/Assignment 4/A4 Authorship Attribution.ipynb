{
 "cells": [
  {
   "cell_type": "markdown",
   "metadata": {},
   "source": [
    "# TxMM Assignment 4 - Authorship Attribution\n",
    "\n",
    "This "
   ]
  },
  {
   "cell_type": "markdown",
   "metadata": {},
   "source": [
    "## 1. Load data"
   ]
  },
  {
   "cell_type": "code",
   "execution_count": 18,
   "metadata": {},
   "outputs": [
    {
     "name": "stderr",
     "output_type": "stream",
     "text": [
      "[nltk_data] Downloading package punkt to\n",
      "[nltk_data]     C:\\Users\\daanb\\AppData\\Roaming\\nltk_data...\n",
      "[nltk_data]   Package punkt is already up-to-date!\n",
      "[nltk_data] Downloading package tagsets to\n",
      "[nltk_data]     C:\\Users\\daanb\\AppData\\Roaming\\nltk_data...\n",
      "[nltk_data]   Package tagsets is already up-to-date!\n"
     ]
    },
    {
     "data": {
      "text/html": [
       "<div>\n",
       "<style scoped>\n",
       "    .dataframe tbody tr th:only-of-type {\n",
       "        vertical-align: middle;\n",
       "    }\n",
       "\n",
       "    .dataframe tbody tr th {\n",
       "        vertical-align: top;\n",
       "    }\n",
       "\n",
       "    .dataframe thead th {\n",
       "        text-align: right;\n",
       "    }\n",
       "</style>\n",
       "<table border=\"1\" class=\"dataframe\">\n",
       "  <thead>\n",
       "    <tr style=\"text-align: right;\">\n",
       "      <th></th>\n",
       "      <th>text</th>\n",
       "      <th>author</th>\n",
       "    </tr>\n",
       "  </thead>\n",
       "  <tbody>\n",
       "    <tr>\n",
       "      <th>1</th>\n",
       "      <td>It\"s got a lot of action, a lot of heart, come...</td>\n",
       "      <td>1276465</td>\n",
       "    </tr>\n",
       "    <tr>\n",
       "      <th>2</th>\n",
       "      <td>Hiro: (blushes in response) AniUniverse: (chuc...</td>\n",
       "      <td>1276465</td>\n",
       "    </tr>\n",
       "    <tr>\n",
       "      <th>3</th>\n",
       "      <td>Girl with the Baymax onesie: (stands up) Thank...</td>\n",
       "      <td>1276465</td>\n",
       "    </tr>\n",
       "    <tr>\n",
       "      <th>4</th>\n",
       "      <td>I am too! Anyways, this is where we let the fa...</td>\n",
       "      <td>1276465</td>\n",
       "    </tr>\n",
       "    <tr>\n",
       "      <th>5</th>\n",
       "      <td>Do you like sushi? Do you find your name ironi...</td>\n",
       "      <td>1276465</td>\n",
       "    </tr>\n",
       "  </tbody>\n",
       "</table>\n",
       "</div>"
      ],
      "text/plain": [
       "                                                text   author\n",
       "1  It\"s got a lot of action, a lot of heart, come...  1276465\n",
       "2  Hiro: (blushes in response) AniUniverse: (chuc...  1276465\n",
       "3  Girl with the Baymax onesie: (stands up) Thank...  1276465\n",
       "4  I am too! Anyways, this is where we let the fa...  1276465\n",
       "5  Do you like sushi? Do you find your name ironi...  1276465"
      ]
     },
     "execution_count": 18,
     "metadata": {},
     "output_type": "execute_result"
    }
   ],
   "source": [
    "import os\n",
    "import string\n",
    "\n",
    "import pandas as pd\n",
    "import nltk\n",
    "\n",
    "nltk.download(\"punkt\")\n",
    "nltk.download(\"tagsets\")\n",
    "\n",
    "data_dir = os.path.join(os.getcwd(), \"Data\")\n",
    "\n",
    "def load_fanfiction_data(data_purpose: str) -> pd.DataFrame:\n",
    "    path_to_data_csv = os.path.join(data_dir, f\"pan2324_{data_purpose}_data.csv\")\n",
    "    \n",
    "    return pd.read_csv(path_to_data_csv, index_col=0).sort_index()\n",
    "\n",
    "train_data = load_fanfiction_data(\"train\")\n",
    "test_data = load_fanfiction_data(\"test\")\n",
    "dev_data = load_fanfiction_data(\"dev\")\n",
    "\n",
    "train_data.head()\n"
   ]
  },
  {
   "cell_type": "markdown",
   "metadata": {},
   "source": [
    "## 2. Data preprocessing"
   ]
  },
  {
   "cell_type": "code",
   "execution_count": null,
   "metadata": {},
   "outputs": [],
   "source": []
  },
  {
   "cell_type": "markdown",
   "metadata": {},
   "source": [
    "## 3. Feature extraction\n",
    "\n",
    "For this assignment, a set of different features are used."
   ]
  },
  {
   "cell_type": "code",
   "execution_count": 20,
   "metadata": {},
   "outputs": [
    {
     "name": "stdout",
     "output_type": "stream",
     "text": [
      "190\n",
      "38\n",
      "5\n",
      "8\n"
     ]
    }
   ],
   "source": [
    "test_sentence = \"I am looking for a research project where I can study the language Esperanto from a linguistic perspective. That subject is called Esperantology. I think that is quite nifty :). Gabbagool!!!\"\n",
    "\n",
    "def character_count(text: str):\n",
    "    return len(text)\n",
    "\n",
    "def word_count(text: str):\n",
    "    return len(nltk.word_tokenize(text))\n",
    "\n",
    "def sentence_count(text: str):\n",
    "    return len(nltk.sent_tokenize(text))\n",
    "\n",
    "def punctuation_count(text: str):\n",
    "    punctuation_count = 0\n",
    "    \n",
    "    for character in text:\n",
    "        if character in list(string.punctuation):\n",
    "            punctuation_count += 1\n",
    "    \n",
    "    return punctuation_count\n",
    "\n",
    "def digit_count(text: str):\n",
    "    raise NotImplementedError()\n",
    "\n",
    "print(character_count(test_sentence))\n",
    "print(word_count(test_sentence))\n",
    "print(sentence_count(test_sentence))\n",
    "print(punctuation_count(test_sentence))"
   ]
  },
  {
   "cell_type": "markdown",
   "metadata": {},
   "source": [
    "# ***The***"
   ]
  }
 ],
 "metadata": {
  "kernelspec": {
   "display_name": "env",
   "language": "python",
   "name": "python3"
  },
  "language_info": {
   "codemirror_mode": {
    "name": "ipython",
    "version": 3
   },
   "file_extension": ".py",
   "mimetype": "text/x-python",
   "name": "python",
   "nbconvert_exporter": "python",
   "pygments_lexer": "ipython3",
   "version": "3.11.6"
  }
 },
 "nbformat": 4,
 "nbformat_minor": 2
}
